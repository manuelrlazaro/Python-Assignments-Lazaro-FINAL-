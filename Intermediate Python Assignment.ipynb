{
 "cells": [
  {
   "cell_type": "code",
   "execution_count": 8,
   "id": "de027ec8",
   "metadata": {},
   "outputs": [],
   "source": [
    "def shift_letter(letter=\"A\", shift=28):\n",
    "    if letter.isalpha():\n",
    "        if letter.isupper():\n",
    "            number = ord(letter)\n",
    "            number_conversion = ((number - ord(\"A\") + shift) % 26) + ord(\"A\")\n",
    "            final_conversion = chr(number_conversion)           \n",
    "        elif letter.islower():\n",
    "            number = ord(letter)\n",
    "            number_conversion = ((number - ord(\"a\") + shift) % 26) + ord(\"a\")\n",
    "            final_conversion = chr(number_conversion)\n",
    "        print(\"The initial letter \" + letter + \" has been shifted \" + str(shift) + \" times, the final output is: \" + final_conversion)\n",
    "    \n",
    "    else:\n",
    "        if letter.isspace():\n",
    "            final_conversion = \"\"\n",
    "            print(\"The inputted character is a space: \" + final_conversion)\n",
    "        else:\n",
    "            final_conversion = \"\"\n",
    "            print(\"The inputted character is not valid\")\n",
    "    return(final_conversion)\n",
    "\n",
    "\n",
    "def caesar_cipher(message=\"g0oDMORNinGWor   LDDD\", shift=2):\n",
    "    shifted_message = \"\"\n",
    "    for char in message:\n",
    "        if char.isupper() or char.isspace():\n",
    "            CC_number = ord(char)\n",
    "            CC_number_conversion = ((CC_number - ord(\"A\") + shift) % 26) + ord(\"A\")\n",
    "            shifted_message += chr(CC_number_conversion)\n",
    "        else:\n",
    "            shifted_message += char\n",
    "\n",
    "    print(\"Original Message: \" + message)\n",
    "    print(\"Shift by \" + str(shift) + \" spaces\")\n",
    "    print(\"Shifted Message: \" + shifted_message)\n",
    "    return(shifted_message)\n",
    "\n",
    "def shift_by_letter(letter=\"B\", letter_shift=\"Z\"):\n",
    "    if letter.isupper() and letter_shift.isupper():\n",
    "        initial_letter_conversion = ord(letter) - ord(\"A\")\n",
    "        shift_value = (ord(letter_shift.upper()) - ord(\"A\"))\n",
    "        number_conversion = (initial_letter_conversion + shift_value) % 26\n",
    "        final_output = chr(number_conversion + ord(\"A\"))\n",
    "        print(\"Original Input: \" + letter)\n",
    "        print(\"Shifted Letter: \" + final_output)\n",
    "    elif letter.isspace() and letter_shift.isupper:\n",
    "        print(\"Original Input:\" + \" \")\n",
    "        print(\"Shifted Letter: \" + \" \" )\n",
    "    else:\n",
    "        print(\"Invalid Input\")\n",
    "    return(final_output)\n",
    "\n",
    "\n",
    "def vigenere_cipher(message=\"F4KEr Wil LWiN W0RLDs\", key=\"ABCDE\"):\n",
    "    if isinstance(key, str) and key.isupper():\n",
    "        encrypted_message = \"\"\n",
    "        key_length = len(key)\n",
    "        for i in range(len(message)):\n",
    "            char = message[i]\n",
    "            if char.isupper():\n",
    "                key_letter = key[i % key_length]\n",
    "                initial_letter_conversion = ord(char) - ord(\"A\")\n",
    "                shift_value = ord(key_letter) - ord(\"A\")\n",
    "                number_conversion = (initial_letter_conversion + shift_value) % 26\n",
    "                shifted_char = chr(number_conversion + ord(\"A\"))\n",
    "                encrypted_message += shifted_char\n",
    "            elif char.isspace():\n",
    "                encrypted_message += char\n",
    "            else:\n",
    "                encrypted_message += char\n",
    "        print(\"Original Message:\" + message)\n",
    "        print(\"Key:\", key)\n",
    "        print(\"Encrypted Message:\" + encrypted_message)\n",
    "    else: \n",
    "        print(\"Invalid passkey\")\n",
    "    return(encrypted_message)"
   ]
  },
  {
   "cell_type": "code",
   "execution_count": 9,
   "id": "c0cdab2f",
   "metadata": {},
   "outputs": [
    {
     "name": "stdout",
     "output_type": "stream",
     "text": [
      "Original Message:F4KEr Wil LWiN W0RLDs\n",
      "Key: ABCDE\n",
      "Encrypted Message:F4MHr Xil LXiQ W0TOHs\n"
     ]
    },
    {
     "data": {
      "text/plain": [
       "'F4MHr Xil LXiQ W0TOHs'"
      ]
     },
     "execution_count": 9,
     "metadata": {},
     "output_type": "execute_result"
    }
   ],
   "source": [
    "vigenere_cipher()"
   ]
  },
  {
   "cell_type": "code",
   "execution_count": null,
   "id": "b861341a",
   "metadata": {},
   "outputs": [],
   "source": []
  }
 ],
 "metadata": {
  "kernelspec": {
   "display_name": "Python 3 (ipykernel)",
   "language": "python",
   "name": "python3"
  },
  "language_info": {
   "codemirror_mode": {
    "name": "ipython",
    "version": 3
   },
   "file_extension": ".py",
   "mimetype": "text/x-python",
   "name": "python",
   "nbconvert_exporter": "python",
   "pygments_lexer": "ipython3",
   "version": "3.11.4"
  }
 },
 "nbformat": 4,
 "nbformat_minor": 5
}
