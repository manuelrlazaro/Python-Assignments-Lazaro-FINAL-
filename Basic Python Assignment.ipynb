{
 "cells": [
  {
   "cell_type": "code",
   "execution_count": 22,
   "id": "330bd8b4",
   "metadata": {},
   "outputs": [],
   "source": [
    "def savings(gross_pay = 200000, tax_rate = 0.125, expenses = 8000):\n",
    "    svgs_process1 = gross_pay -(round(gross_pay*tax_rate))\n",
    "    svgs_process2 = svgs_process1-expenses\n",
    "    savings = svgs_process2\n",
    "    print(\"Employee Savings: \" + str(savings) + \" Centavos\")\n",
    "    return(savings)\n",
    "\n",
    "def material_waste(total_material = 5000000, material_units = \"kg\", num_jobs = 67, job_consumption = 20000):\n",
    "    mat_process1 = num_jobs*job_consumption\n",
    "    mat_process2 = total_material-mat_process1 \n",
    "    material_waste = str(mat_process2)\n",
    "    print(\"The remaining number of material after \" + str(num_jobs) + \" jobs in \" + material_units + \" is: \" + material_waste + material_units)\n",
    "    return(material_waste+material_units)\n",
    "    \n",
    "\n",
    "def interest(principal = 200000000, rate = 0.05, periods = 6):\n",
    "    int_process1 = rate*periods\n",
    "    int_process2 = int_process1 * principal\n",
    "    int_process3 = (int_process2 + principal)/100\n",
    "    final_value = int(int_process3)\n",
    "                     \n",
    "    print(\"The initial amount of your investment of \" + str(principal) + \" Centavos has generated \" + str(int_process2) + \" Centavos \")\n",
    "    print(\"The total amount of your investment is: \" + str(int_process3) + \" Pesos\")\n",
    "    return(int_process3)\n",
    "\n",
    "def body_mass_index(weight = 143, height = [5,5]):\n",
    "    conversion1 = weight*0.453592\n",
    "    height_1 = int(height[0])*0.3048\n",
    "    height_2 = (int(height[1])*0.0833333)*0.3048\n",
    "    conversion2 = height_1 + height_2\n",
    "    \n",
    "    final_comp = conversion1/(conversion2**2)\n",
    "    final_comp = float(final_comp)\n",
    "    \n",
    "    print(\"The calculated BMI results in: \" + str(final_comp))\n",
    "    return(final_comp)"
   ]
  },
  {
   "cell_type": "code",
   "execution_count": 24,
   "id": "4adc7ed1",
   "metadata": {},
   "outputs": [
    {
     "name": "stdout",
     "output_type": "stream",
     "text": [
      "The calculated BMI results in: 23.79618321059013\n"
     ]
    },
    {
     "data": {
      "text/plain": [
       "23.79618321059013"
      ]
     },
     "execution_count": 24,
     "metadata": {},
     "output_type": "execute_result"
    }
   ],
   "source": [
    "body_mass_index()"
   ]
  },
  {
   "cell_type": "code",
   "execution_count": null,
   "id": "40752941",
   "metadata": {},
   "outputs": [],
   "source": []
  }
 ],
 "metadata": {
  "kernelspec": {
   "display_name": "Python 3 (ipykernel)",
   "language": "python",
   "name": "python3"
  },
  "language_info": {
   "codemirror_mode": {
    "name": "ipython",
    "version": 3
   },
   "file_extension": ".py",
   "mimetype": "text/x-python",
   "name": "python",
   "nbconvert_exporter": "python",
   "pygments_lexer": "ipython3",
   "version": "3.11.4"
  }
 },
 "nbformat": 4,
 "nbformat_minor": 5
}
